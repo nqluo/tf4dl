{
  "cells": [
    {
      "cell_type": "markdown",
      "metadata": {
        "id": "4Vl4rU9KWkAF"
      },
      "source": [
        "## Import TensorFlow package"
      ]
    },
    {
      "cell_type": "code",
      "execution_count": 1,
      "metadata": {
        "colab": {
          "base_uri": "https://localhost:8080/"
        },
        "id": "LMO_Gz0qOOD2",
        "outputId": "30b826b2-3f69-4970-bbaa-c023f86be0fe"
      },
      "outputs": [
        {
          "name": "stdout",
          "output_type": "stream",
          "text": [
            "2.4.0\n"
          ]
        }
      ],
      "source": [
        "# inport tensorflow\n",
        "import tensorflow as tf\n",
        "print(tf.__version__)\n",
        "import numpy as np # numpy package for array process\n",
        "import matplotlib.pyplot as plt # package for ploting figures\n",
        "%matplotlib inline\n",
        "# incase you don't have tensorflow, install using pip, \n",
        "# the same for numpy, matplot, and other package\n",
        "# !pip install tensorflow "
      ]
    },
    {
      "cell_type": "code",
      "execution_count": 2,
      "metadata": {
        "id": "jADT0Q_GOSbR"
      },
      "outputs": [],
      "source": [
        "datasize = 10 # define the data size\n",
        "times = np.array([i for i in range(datasize)], dtype=float)\n",
        "v0 = 10\n",
        "g = 9.8\n",
        "vt = np.array([g * t + v0 for t in times])\n",
        "\n",
        "tx = 100\n",
        "vt_true = g*tx+v0"
      ]
    },
    {
      "cell_type": "markdown",
      "metadata": {
        "id": "6Nqa_P3MS6Nw"
      },
      "source": [
        "## 1. Explore data"
      ]
    },
    {
      "cell_type": "code",
      "execution_count": 4,
      "metadata": {
        "colab": {
          "base_uri": "https://localhost:8080/",
          "height": 334
        },
        "id": "1Q6_PtsnQDQX",
        "outputId": "7ac7ebc3-eaab-4b5c-9762-6f924e0b52cf"
      },
      "outputs": [
        {
          "data": {
            "image/png": "[encoded data removed]",
            "text/plain": [
              "<Figure size 576x360 with 1 Axes>"
            ]
          },
          "metadata": {
            "needs_background": "light"
          },
          "output_type": "display_data"
        }
      ],
      "source": [
        "plt.figure(figsize=(8,5))\n",
        "plt.plot(times, vt, 'r.-', label='velocity: vt = g * t + v0')\n",
        "plt.xlabel('Time(sec)')\n",
        "plt.ylabel('Velocity(m/s)')\n",
        "plt.legend(loc='upper left',fontsize=16);"
      ]
    },
    {
      "cell_type": "markdown",
      "metadata": {
        "id": "PbsIgY-cS9Bm"
      },
      "source": [
        "## 2. Construct and train the model"
      ]
    },
    {
      "cell_type": "code",
      "execution_count": 3,
      "metadata": {
        "colab": {
          "base_uri": "https://localhost:8080/"
        },
        "id": "cHcvdcYmRYk0",
        "outputId": "2920e095-c8a7-42dc-f981-de5e234f1067"
      },
      "outputs": [
        {
          "name": "stdout",
          "output_type": "stream",
          "text": [
            "Model: \"sequential\"\n",
            "_________________________________________________________________\n",
            "Layer (type)                 Output Shape              Param #   \n",
            "=================================================================\n",
            "dense (Dense)                (None, 1)                 2         \n",
            "=================================================================\n",
            "Total params: 2\n",
            "Trainable params: 2\n",
            "Non-trainable params: 0\n",
            "_________________________________________________________________\n"
          ]
        }
      ],
      "source": [
        "l0 = tf.keras.layers.Dense(units=1,input_shape=[1]) # layer zero\n",
        "\n",
        "model = tf.keras.Sequential([l0]) # model with one dense layer\n",
        "model.compile(loss='mean_squared_error',\n",
        "              optimizer=tf.keras.optimizers.Adam(0.1))\n",
        "model.summary()"
      ]
    },
    {
      "cell_type": "code",
      "execution_count": 4,
      "metadata": {
        "id": "4n_FEmNATMAo"
      },
      "outputs": [],
      "source": [
        "training_steps = 100\n",
        "history = model.fit(times, vt, epochs=training_steps, verbose=False)"
      ]
    },
    {
      "cell_type": "code",
      "execution_count": 7,
      "metadata": {
        "colab": {
          "base_uri": "https://localhost:8080/",
          "height": 279
        },
        "id": "NF0bmTR9TXfQ",
        "outputId": "9e7c0b40-bafd-406f-a9d5-d56866684a15"
      },
      "outputs": [
        {
          "data": {
            "image/png": "[encoded data removed]",
            "text/plain": [
              "<Figure size 432x288 with 1 Axes>"
            ]
          },
          "metadata": {
            "needs_background": "light"
          },
          "output_type": "display_data"
        }
      ],
      "source": [
        "plt.xlabel('Epoch Number')\n",
        "plt.ylabel(\"Loss Magnitude\")\n",
        "plt.plot(history.history['loss'],'r.-');"
      ]
    },
    {
      "cell_type": "markdown",
      "metadata": {
        "id": "jQ2rvJf0Udg9"
      },
      "source": [
        "## 3. Prediction, use the model"
      ]
    },
    {
      "cell_type": "code",
      "execution_count": 8,
      "metadata": {
        "colab": {
          "base_uri": "https://localhost:8080/"
        },
        "id": "0kTgED8nTtmL",
        "outputId": "5f026c92-159c-4fc0-950a-53faacc3c0e5"
      },
      "outputs": [
        {
          "name": "stdout",
          "output_type": "stream",
          "text": [
            "Label: 990.0, Predict: 805.0\n"
          ]
        }
      ],
      "source": [
        "tx = 100\n",
        "vt_true = g*tx+v0\n",
        "vt_pred = model.predict([tx])[0][0]\n",
        "print('Label: {:.1f}, Predict: {:.1f}'.format(vt_true, vt_pred))"
      ]
    },
    {
      "cell_type": "markdown",
      "metadata": {
        "id": "JTbRiYxAVWkc"
      },
      "source": [
        "## Explore the model, Looking at the layer weights"
      ]
    },
    {
      "cell_type": "code",
      "execution_count": 16,
      "metadata": {
        "colab": {
          "base_uri": "https://localhost:8080/"
        },
        "id": "j_BvN7gRUkeo",
        "outputId": "bd99bfbf-d913-40f8-fc3a-0dcdb2d5a222"
      },
      "outputs": [
        {
          "name": "stdout",
          "output_type": "stream",
          "text": [
            "These are the layer variables: [array([[8.719485]], dtype=float32), array([7.3387227], dtype=float32)]\n"
          ]
        }
      ],
      "source": [
        "l0_weights = l0.get_weights()\n",
        "print(\"These are the layer variables: {}\".format(l0_weights))"
      ]
    },
    {
      "cell_type": "code",
      "execution_count": 9,
      "metadata": {
        "colab": {
          "base_uri": "https://localhost:8080/"
        },
        "id": "7ExJVUIGWN3k",
        "outputId": "2ec2ee1c-2c04-4e24-b93c-aa335499afa7"
      },
      "outputs": [
        {
          "name": "stdout",
          "output_type": "stream",
          "text": [
            "loss:0.019340509548783302\n",
            "Label: 990.0, Predict: 989.9\n",
            "Layer variables: [array([[9.795908]], dtype=float32), array([10.275824], dtype=float32)]\n"
          ]
        },
        {
          "data": {
            "image/png": "[encoded data removed]",
            "text/plain": [
              "<Figure size 432x288 with 1 Axes>"
            ]
          },
          "metadata": {
            "needs_background": "light"
          },
          "output_type": "display_data"
        }
      ],
      "source": [
        "## Increase the data size\n",
        "\n",
        "datasize = 100 # define the data size\n",
        "times = np.array([i for i in range(datasize)], dtype=float)\n",
        "v0 = 10\n",
        "g = 9.8\n",
        "vt = np.array([g * t + v0 for t in times])\n",
        "\n",
        "l0 = tf.keras.layers.Dense(units=1,input_shape=[1]) # layer zero\n",
        "model = tf.keras.Sequential([l0]) # model with one dense layer\n",
        "model.compile(loss='mean_squared_error',\n",
        "              optimizer=tf.keras.optimizers.Adam(0.1))\n",
        "\n",
        "training_steps = 100\n",
        "history = model.fit(times, vt, epochs=training_steps, verbose=False)\n",
        "\n",
        "plt.figure()\n",
        "plt.xlabel('Epoch Number')\n",
        "plt.ylabel(\"Loss Magnitude\")\n",
        "plt.plot(history.history['loss'], 'r.-');\n",
        "\n",
        "print('loss:{}'.format(history.history['loss'][-1]))\n",
        "\n",
        "vt_pred = model.predict([tx])[0][0]\n",
        "print('Label: {:.1f}, Predict: {:.1f}'.format(vt_true, vt_pred))\n",
        "\n",
        "l0_weights = l0.get_weights()\n",
        "print(\"Layer variables: {}\".format(l0_weights))"
      ]
    },
    {
      "cell_type": "code",
      "execution_count": 12,
      "metadata": {
        "colab": {
          "base_uri": "https://localhost:8080/"
        },
        "id": "XlE2MDT3WNwu",
        "outputId": "9808cf09-2f2f-4880-b90f-e49799c78072"
      },
      "outputs": [
        {
          "name": "stdout",
          "output_type": "stream",
          "text": [
            "loss:0.0018192300340160728\n",
            "Label: 990.0, Predict: 990.0\n"
          ]
        },
        {
          "data": {
            "image/png": "[encoded data removed]",
            "text/plain": [
              "<Figure size 432x288 with 1 Axes>"
            ]
          },
          "metadata": {
            "needs_background": "light"
          },
          "output_type": "display_data"
        }
      ],
      "source": [
        "## Increase the model size\n",
        "\n",
        "datasize = 100 # define the data size\n",
        "times = np.array([i for i in range(datasize)], dtype=float)\n",
        "v0 = 10\n",
        "g = 9.8\n",
        "vt = np.array([g * t + v0 for t in times])\n",
        "\n",
        "l0 = tf.keras.layers.Dense(units=3, input_shape=[1]) # input layer\n",
        "l1 = tf.keras.layers.Dense(units=4) # hidden layer\n",
        "l2 = tf.keras.layers.Dense(units=1) # output layer\n",
        "\n",
        "model = tf.keras.Sequential([l0, l1, l2]) # model with three layer\n",
        "model.compile(loss='mean_squared_error',\n",
        "              optimizer=tf.keras.optimizers.Adam(0.1))\n",
        "\n",
        "training_steps = 100\n",
        "history = model.fit(times, vt, epochs=training_steps, verbose=False)\n",
        "\n",
        "plt.figure()\n",
        "plt.xlabel('Epoch Number')\n",
        "plt.ylabel(\"Loss Magnitude\")\n",
        "plt.plot(history.history['loss'], 'r.-');\n",
        "\n",
        "print('loss:{}'.format(history.history['loss'][-1]))\n",
        "\n",
        "vt_pred = model.predict([tx])[0][0]\n",
        "print('Label: {:.1f}, Predict: {:.1f}'.format(vt_true, vt_pred))\n",
        "\n"
      ]
    },
    {
      "cell_type": "code",
      "execution_count": 11,
      "metadata": {
        "colab": {
          "base_uri": "https://localhost:8080/"
        },
        "id": "E7w3zr_kWNjZ",
        "outputId": "40b2c20f-a267-454c-dc11-608075cca7a6"
      },
      "outputs": [
        {
          "name": "stdout",
          "output_type": "stream",
          "text": [
            "Model: \"sequential_2\"\n",
            "_________________________________________________________________\n",
            "Layer (type)                 Output Shape              Param #   \n",
            "=================================================================\n",
            "dense_2 (Dense)              (None, 3)                 6         \n",
            "_________________________________________________________________\n",
            "dense_3 (Dense)              (None, 4)                 16        \n",
            "_________________________________________________________________\n",
            "dense_4 (Dense)              (None, 1)                 5         \n",
            "=================================================================\n",
            "Total params: 27\n",
            "Trainable params: 27\n",
            "Non-trainable params: 0\n",
            "_________________________________________________________________\n"
          ]
        }
      ],
      "source": [
        "model.summary()"
      ]
    },
    {
      "cell_type": "code",
      "execution_count": 16,
      "metadata": {},
      "outputs": [],
      "source": [
        "# print(\"Layer 0 variables: {}\".format(l0.get_weights()))\n",
        "# print(\"Layer 1 variables: {}\".format(l1.get_weights()))\n",
        "# print(\"Layer 2 variables: {}\".format(l2.get_weights()))"
      ]
    },
    {
      "cell_type": "code",
      "execution_count": 20,
      "metadata": {},
      "outputs": [
        {
          "name": "stdout",
          "output_type": "stream",
          "text": [
            "Layer 0 weight: [[ 1.6112216   0.53750473 -1.0065322 ]]\n",
            "Layer 0 bias: [ 0.7452798  -0.10204069 -0.70976436]\n"
          ]
        }
      ],
      "source": [
        "print('Layer 0 weight: {}'.format(l0.get_weights()[0]))\n",
        "print('Layer 0 bias: {}'.format(l0.get_weights()[1]))"
      ]
    },
    {
      "cell_type": "code",
      "execution_count": 23,
      "metadata": {},
      "outputs": [
        {
          "name": "stdout",
          "output_type": "stream",
          "text": [
            "Layer 1 weight: [[ 0.16905764  0.8514002  -0.72342193 -1.386371  ]\n",
            " [-0.51441795  0.10079163 -1.2740701  -0.42593476]\n",
            " [-0.3646136  -0.71445614  0.94716996  0.9948783 ]]\n",
            "Layer 1 weight shape: (3, 4)\n",
            "\n",
            "Layer 1 bias: [-0.10434005  1.0773745  -1.2164172  -1.2705129 ]\n",
            "Layer 1 bias shape: (4,)\n",
            "\n"
          ]
        }
      ],
      "source": [
        "print('Layer 1 weight: {}'.format(l1.get_weights()[0]))\n",
        "print('Layer 1 weight shape: {}'.format(l1.get_weights()[0].shape), end='\\n\\n')\n",
        "\n",
        "print('Layer 1 bias: {}'.format(l1.get_weights()[1]))\n",
        "print('Layer 1 bias shape: {}'.format(l1.get_weights()[1].shape), end='\\n\\n')"
      ]
    },
    {
      "cell_type": "code",
      "execution_count": 24,
      "metadata": {},
      "outputs": [
        {
          "name": "stdout",
          "output_type": "stream",
          "text": [
            "Layer 2 weight: [[-0.19073962]\n",
            " [ 0.62564766]\n",
            " [-1.1730487 ]\n",
            " [-1.5125006 ]]\n",
            "Layer 2 weight shape: (4, 1)\n",
            "\n",
            "Layer 2 bias: [1.4180387]\n",
            "Layer 2 bias shape: (1,)\n",
            "\n"
          ]
        }
      ],
      "source": [
        "print('Layer 2 weight: {}'.format(l2.get_weights()[0]))\n",
        "print('Layer 2 weight shape: {}'.format(l2.get_weights()[0].shape), end='\\n\\n')\n",
        "\n",
        "print('Layer 2 bias: {}'.format(l2.get_weights()[1]))\n",
        "print('Layer 2 bias shape: {}'.format(l2.get_weights()[1].shape), end='\\n\\n')"
      ]
    },
    {
      "cell_type": "markdown",
      "metadata": {
        "id": "jAheqA5vb2kQ"
      },
      "source": [
        "## Save the model"
      ]
    },
    {
      "cell_type": "code",
      "execution_count": 20,
      "metadata": {
        "colab": {
          "base_uri": "https://localhost:8080/"
        },
        "id": "j4yP0O_lbw-O",
        "outputId": "22d934fc-8089-4a85-ad17-7b524cab5f2d"
      },
      "outputs": [
        {
          "name": "stdout",
          "output_type": "stream",
          "text": [
            "./1636428887.h5\n"
          ]
        }
      ],
      "source": [
        "import time\n",
        "t = time.time()\n",
        "\n",
        "export_path_keras = \"./{}.h5\".format(int(t))\n",
        "print(export_path_keras)\n",
        "\n",
        "model.save(export_path_keras)"
      ]
    },
    {
      "cell_type": "markdown",
      "metadata": {
        "id": "XxkccBR9b6Ry"
      },
      "source": [
        "## Load the model"
      ]
    },
    {
      "cell_type": "code",
      "execution_count": 22,
      "metadata": {
        "colab": {
          "base_uri": "https://localhost:8080/"
        },
        "id": "OUgonFS4bw4x",
        "outputId": "267a2222-4508-4ad3-983e-d37a9df9ac6b"
      },
      "outputs": [
        {
          "name": "stdout",
          "output_type": "stream",
          "text": [
            "Model: \"sequential_4\"\n",
            "_________________________________________________________________\n",
            " Layer (type)                Output Shape              Param #   \n",
            "=================================================================\n",
            " dense_4 (Dense)             (None, 3)                 6         \n",
            "                                                                 \n",
            " dense_5 (Dense)             (None, 4)                 16        \n",
            "                                                                 \n",
            " dense_6 (Dense)             (None, 1)                 5         \n",
            "                                                                 \n",
            "=================================================================\n",
            "Total params: 27\n",
            "Trainable params: 27\n",
            "Non-trainable params: 0\n",
            "_________________________________________________________________\n"
          ]
        }
      ],
      "source": [
        "\n",
        "import tensorflow_hub as hub\n",
        "reloaded = tf.keras.models.load_model(\n",
        "  export_path_keras, \n",
        "  # `custom_objects` tells keras how to load a `hub.KerasLayer`\n",
        "  custom_objects={'KerasLayer': hub.KerasLayer})\n",
        "\n",
        "reloaded.summary()"
      ]
    },
    {
      "cell_type": "code",
      "execution_count": 23,
      "metadata": {
        "colab": {
          "base_uri": "https://localhost:8080/"
        },
        "id": "dZwfVv09bwzG",
        "outputId": "b1a3f6e6-13a7-41d5-f3ee-1ef8ba9167a6"
      },
      "outputs": [
        {
          "name": "stdout",
          "output_type": "stream",
          "text": [
            "Label: 990.0, Predict: 990.1\n"
          ]
        }
      ],
      "source": [
        "vt_pred = reloaded.predict([tx])[0][0]\n",
        "print('Label: {:.1f}, Predict: {:.1f}'.format(vt_true, vt_pred))"
      ]
    },
    {
      "cell_type": "code",
      "execution_count": null,
      "metadata": {
        "id": "OUyBuJzAbwhk"
      },
      "outputs": [],
      "source": []
    },
    {
      "cell_type": "code",
      "execution_count": null,
      "metadata": {
        "id": "a2sib9ivZ7mR"
      },
      "outputs": [],
      "source": [
        "l0 = tf.keras.layers.Dense(units=3, input_shape=[1]) # input layer\n",
        "l1 = tf.keras.layers.Dense(units=4) # hidden layer\n",
        "l2 = tf.keras.layers.Dense(units=1) # output layer\n",
        "\n",
        "model = tf.keras.Sequential([l0, l1, l2]) # model with three layer"
      ]
    },
    {
      "cell_type": "code",
      "execution_count": null,
      "metadata": {
        "colab": {
          "base_uri": "https://localhost:8080/"
        },
        "id": "NMyKsrfWaeTU",
        "outputId": "efb9d3bd-31b1-4d96-92f8-f77b25d41737"
      },
      "outputs": [
        {
          "name": "stdout",
          "output_type": "stream",
          "text": [
            "Model: \"sequential\"\n",
            "_________________________________________________________________\n",
            "Layer (type)                 Output Shape              Param #   \n",
            "=================================================================\n",
            "dense (Dense)                (None, 3)                 6         \n",
            "_________________________________________________________________\n",
            "dense_1 (Dense)              (None, 4)                 16        \n",
            "_________________________________________________________________\n",
            "dense_2 (Dense)              (None, 1)                 5         \n",
            "=================================================================\n",
            "Total params: 27\n",
            "Trainable params: 27\n",
            "Non-trainable params: 0\n",
            "_________________________________________________________________\n"
          ]
        }
      ],
      "source": [
        "model = tf.keras.Sequential([\n",
        "                             tf.keras.layers.Dense(units=3, input_shape=[1]),\n",
        "                             tf.keras.layers.Dense(units=4),\n",
        "                             tf.keras.layers.Dense(units=1)\n",
        "])\n",
        "\n",
        "model.summary()"
      ]
    },
    {
      "cell_type": "code",
      "execution_count": null,
      "metadata": {
        "id": "dCo3eaiOar7z"
      },
      "outputs": [],
      "source": []
    }
  ],
  "metadata": {
    "accelerator": "TPU",
    "colab": {
      "collapsed_sections": [],
      "name": "_linear_model.ipynb",
      "provenance": []
    },
    "interpreter": {
      "hash": "94f2a76ffbe1ad8d9ee163905647d2befbdfd8683fffbc75e51b10d82a8ca9e4"
    },
    "kernelspec": {
      "display_name": "Python 3.8.3 64-bit ('base': conda)",
      "name": "python3"
    },
    "language_info": {
      "codemirror_mode": {
        "name": "ipython",
        "version": 3
      },
      "file_extension": ".py",
      "mimetype": "text/x-python",
      "name": "python",
      "nbconvert_exporter": "python",
      "pygments_lexer": "ipython3",
      "version": "3.8.3"
    }
  },
  "nbformat": 4,
  "nbformat_minor": 0
}
